{
 "cells": [
  {
   "cell_type": "code",
   "execution_count": 2,
   "metadata": {},
   "outputs": [
    {
     "name": "stdout",
     "output_type": "stream",
     "text": [
      "[1 2 2 2 1]\n",
      "[(4+0j), (-1.8369701987210297e-16-2.220446049250313e-16j), -2.449293598294706e-16j, (3.2904645469127765e-16-3.3306690738754696e-16j)]\n",
      "[(2+0j), -1.2246467991473532e-16j]\n",
      "[(8+0j), (-1.3090169943749475-0.9510565162951539j), (-0.19098300562505244-0.5877852522924735j), (-0.19098300562505255+0.5877852522924729j), (-1.309016994374947+0.9510565162951526j)]\n"
     ]
    }
   ],
   "source": [
    "import math\n",
    "import numpy\n",
    "def iexp(n):\n",
    "    return complex(math.cos(n), math.sin(n))\n",
    " \n",
    "def is_pow2(n):\n",
    "    return False if n == 0 else (n == 1 or is_pow2(n >> 1))\n",
    " \n",
    "def dft(xs):\n",
    "    \"naive dft\"\n",
    "    n = len(xs)\n",
    "    return [sum((xs[k] * iexp(-2 * math.pi * i * k / n) for k in range(n)))\n",
    "            for i in range(n)]\n",
    "if __name__ == \"__main__\":\n",
    "    x = [1,1,1,1]\n",
    "    w = [1,1]\n",
    "    f = [1, 1, 1, 1]\n",
    "    g = [1, 1]\n",
    "    y = numpy.convolve(f, g, mode='full')\n",
    "    print(y)\n",
    "    dfreqx = dft(x)\n",
    "    dfreqw = dft(w)\n",
    "    dfreqy = dft(y)\n",
    "    print(dfreqx)\n",
    "    print(dfreqw)\n",
    "    print(dfreqy)\n",
    "    pass\n"
   ]
  },
  {
   "cell_type": "code",
   "execution_count": null,
   "metadata": {},
   "outputs": [],
   "source": []
  }
 ],
 "metadata": {
  "kernelspec": {
   "display_name": "Python 3",
   "language": "python",
   "name": "python3"
  },
  "language_info": {
   "codemirror_mode": {
    "name": "ipython",
    "version": 3
   },
   "file_extension": ".py",
   "mimetype": "text/x-python",
   "name": "python",
   "nbconvert_exporter": "python",
   "pygments_lexer": "ipython3",
   "version": "3.7.3"
  }
 },
 "nbformat": 4,
 "nbformat_minor": 2
}
